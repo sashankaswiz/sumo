{
 "cells": [
  {
   "cell_type": "code",
   "execution_count": 1,
   "id": "c64fdfa8-c13a-474f-a5d5-427337409f25",
   "metadata": {},
   "outputs": [],
   "source": [
    "import pandas as pd\n",
    "import numpy as np"
   ]
  },
  {
   "cell_type": "code",
   "execution_count": 3,
   "id": "954b1ef1-b78f-4cac-b7ec-d22f4c85cc63",
   "metadata": {},
   "outputs": [],
   "source": [
    "import joblib"
   ]
  },
  {
   "cell_type": "code",
   "execution_count": 4,
   "id": "3eeb72f6-a1a3-47e5-8092-56d7177e9102",
   "metadata": {},
   "outputs": [],
   "source": [
    "from sklearn.preprocessing import LabelEncoder\n",
    "\n",
    "# Load the pre-trained model and label encoders\n",
    "forest = joblib.load('C:/Users/ARYAN/OneDrive/Desktop/Mu- Analytics/forest.pkl')\n",
    "xgb = joblib.load(\"C:/Users/ARYAN/OneDrive/Desktop/Mu- Analytics/xgb.pkl\")\n",
    "l_dep = LabelEncoder().fit(['Sales', 'RandD', 'HR'])\n",
    "l_gen = LabelEncoder().fit(['Male', 'Female'])\n",
    "l_job = LabelEncoder().fit(['Sales Executive', 'Research Scientist', 'Laboratory Technician', 'Manufacturing Director', 'Healthcare Representative', 'Manager', 'Sales Representative', 'Research Director', 'Human Resources'])\n",
    "l_mar = LabelEncoder().fit(['Single', 'Married', 'Divorced'])"
   ]
  },
  {
   "cell_type": "code",
   "execution_count": 6,
   "id": "e72c9768-bad0-485d-93db-e98c3cad4991",
   "metadata": {},
   "outputs": [
    {
     "name": "stdin",
     "output_type": "stream",
     "text": [
      "Enter the age 40\n",
      "Enter the name of the department RandD\n",
      "Enter the distance from home 20\n",
      "Enter the environment satisfaction 4\n",
      "Enter the Gender Male\n",
      "Enter the jobrole Research Scientist\n",
      "Enter the job satisfaction 4\n",
      "Enter the marital status Married\n",
      "Enter the number of companies worked 5\n",
      "Enter the percentage salary hike 20\n",
      "Enter the performance rating 4\n",
      "Enter the relationship satisfaction 4\n",
      "Enter the number of years worked 6\n",
      "Enter the number of trainings in the last year 3\n",
      "Enter the worklife balance 4\n",
      "Enter the number of years in current role 5\n",
      "Enter the number of years since the last promotion 3\n",
      "Enter the number of years worked with the current manager 6\n",
      "Enter the CTC 150000\n",
      "Enter the cutoff probability 0.3\n"
     ]
    },
    {
     "name": "stdout",
     "output_type": "stream",
     "text": [
      "Random Forest: No Attrition\n",
      "XGBoost: No Attrition\n"
     ]
    },
    {
     "name": "stderr",
     "output_type": "stream",
     "text": [
      "C:\\Users\\ARYAN\\AppData\\Local\\Programs\\Python\\Python311\\Lib\\site-packages\\sklearn\\base.py:439: UserWarning: X does not have valid feature names, but RandomForestClassifier was fitted with feature names\n",
      "  warnings.warn(\n"
     ]
    }
   ],
   "source": [
    "age = float(input('Enter the age'))\n",
    "depart = str(input('Enter the name of the department'))\n",
    "distance = float(input('Enter the distance from home'))\n",
    "env = float(input('Enter the environment satisfaction'))\n",
    "gender = str(input('Enter the Gender'))\n",
    "job = str(input('Enter the jobrole'))\n",
    "jobsat = float(input('Enter the job satisfaction'))\n",
    "mar = str(input('Enter the marital status'))\n",
    "num_com = float(input('Enter the number of companies worked'))\n",
    "salaryhike = float(input('Enter the percentage salary hike'))\n",
    "perf = float(input('Enter the performance rating'))\n",
    "rltn = float(input('Enter the relationship satisfaction'))\n",
    "twy = float(input('Enter the number of years worked'))\n",
    "train = float(input('Enter the number of trainings in the last year'))\n",
    "worklife = float(input('Enter the worklife balance'))\n",
    "yearsincurr = float(input('Enter the number of years in current role'))\n",
    "promot = float(input('Enter the number of years since the last promotion'))\n",
    "manag = float(input('Enter the number of years worked with the current manager'))\n",
    "ctc = float(input('Enter the CTC'))\n",
    "prob = float(input('Enter the cutoff probability'))\n",
    "\n",
    "predictors = [age, l_dep.transform([depart])[0], distance, env, l_gen.transform([gender])[0],\n",
    "              l_job.transform([job])[0], jobsat, l_mar.transform([mar])[0], num_com,\n",
    "              salaryhike, perf, rltn, twy, train, worklife, yearsincurr, promot, manag, ctc]\n",
    "\n",
    "forest_pred = (forest.predict_proba([predictors]) > 0.3)[:, 1].astype(int)\n",
    "xgb_pred = (xgb.predict_proba([predictors]) > 0.3)[:, 1].astype(int)\n",
    "\n",
    "if forest_pred == 1:\n",
    "    print('Random Forest: Attrition')\n",
    "else:\n",
    "    print('Random Forest: No Attrition')\n",
    "\n",
    "if xgb_pred == 1:\n",
    "    print('XGBoost: Attrition')\n",
    "else:\n",
    "    print('XGBoost: No Attrition')\n"
   ]
  },
  {
   "cell_type": "code",
   "execution_count": null,
   "id": "414c522e-df7a-40bf-9d50-b58141fd9380",
   "metadata": {},
   "outputs": [],
   "source": []
  }
 ],
 "metadata": {
  "kernelspec": {
   "display_name": "Python 3 (ipykernel)",
   "language": "python",
   "name": "python3"
  },
  "language_info": {
   "codemirror_mode": {
    "name": "ipython",
    "version": 3
   },
   "file_extension": ".py",
   "mimetype": "text/x-python",
   "name": "python",
   "nbconvert_exporter": "python",
   "pygments_lexer": "ipython3",
   "version": "3.11.0"
  }
 },
 "nbformat": 4,
 "nbformat_minor": 5
}
